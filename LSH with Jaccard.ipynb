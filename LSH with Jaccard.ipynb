{
 "cells": [
  {
   "cell_type": "markdown",
   "id": "210548de",
   "metadata": {},
   "source": [
    "### Process Flow of Project\n",
    "The steps we followed to implement the project are as follows:\n",
    "\n",
    "- Data pre-processing such as reading in files and removing punctuations\n",
    "- Converting text into sets using n-grams\n",
    "- Min-hashing the document sets to smaller signatures\n",
    "- LSH to find similar documents(codefiles)\n",
    "- Comparing LSH with Jaccard Similarity"
   ]
  },
  {
   "cell_type": "markdown",
   "id": "60d267bf",
   "metadata": {},
   "source": [
    "### Importing the libraries"
   ]
  },
  {
   "cell_type": "code",
   "execution_count": 1,
   "id": "76454038",
   "metadata": {},
   "outputs": [],
   "source": [
    "import os\n",
    "import pandas as pd\n",
    "from pandas import DataFrame\n",
    "import numpy as np\n",
    "import matplotlib.pyplot as plt\n",
    "from clean.clean import clean_data\n",
    "from featurize.featurize import featurize_data, reduce_features\n",
    "from lsh.lsh import create_lsh_model, find_corpus_neighbors, calculate_distance\n",
    "from sklearn.feature_extraction.text import CountVectorizer\n",
    "\n",
    "import warnings\n",
    "warnings.filterwarnings(\"ignore\", category=FutureWarning) "
   ]
  },
  {
   "cell_type": "markdown",
   "id": "bd511f66",
   "metadata": {},
   "source": [
    "### Loading the data\n",
    "The dataset we will be detecting plagiarism for consists of java codefiles which we will load into a pandas dataframe"
   ]
  },
  {
   "cell_type": "code",
   "execution_count": 2,
   "id": "cd28ffa2",
   "metadata": {},
   "outputs": [],
   "source": [
    "def pull_data(folder_name) -> DataFrame:\n",
    "    data = dict()\n",
    "    for subfolder_name in os.listdir(f'./data/{folder_name}'):\n",
    "        if subfolder_name == '.DS_Store':\n",
    "            continue\n",
    "        lines = list()\n",
    "        for file_name in os.listdir(f'./data/{folder_name}/{subfolder_name}'):\n",
    "            with open(f'./data/{folder_name}/{subfolder_name}/{file_name}', 'r') as file:\n",
    "                for line in file:\n",
    "                    lines.append(line)\n",
    "        entry = \"\".join(lines)\n",
    "        data[subfolder_name] = entry\n",
    "    df = DataFrame.from_dict(data=data, orient='index', columns=[\"text\"])\n",
    "    return df"
   ]
  },
  {
   "cell_type": "code",
   "execution_count": 3,
   "id": "2b55f659",
   "metadata": {},
   "outputs": [],
   "source": [
    "folder_name = 'A1'\n",
    "data = pull_data(folder_name)\n",
    "data = clean_data(data)\n",
    "df = data.reset_index(drop=True)"
   ]
  },
  {
   "cell_type": "code",
   "execution_count": 4,
   "id": "69680797",
   "metadata": {},
   "outputs": [
    {
     "data": {
      "text/html": [
       "<div>\n",
       "<style scoped>\n",
       "    .dataframe tbody tr th:only-of-type {\n",
       "        vertical-align: middle;\n",
       "    }\n",
       "\n",
       "    .dataframe tbody tr th {\n",
       "        vertical-align: top;\n",
       "    }\n",
       "\n",
       "    .dataframe thead th {\n",
       "        text-align: right;\n",
       "    }\n",
       "</style>\n",
       "<table border=\"1\" class=\"dataframe\">\n",
       "  <thead>\n",
       "    <tr style=\"text-align: right;\">\n",
       "      <th></th>\n",
       "      <th>text</th>\n",
       "      <th>rowIndex</th>\n",
       "    </tr>\n",
       "  </thead>\n",
       "  <tbody>\n",
       "    <tr>\n",
       "      <th>0</th>\n",
       "      <td>class for a tree node class mynode int issafe...</td>\n",
       "      <td>024</td>\n",
       "    </tr>\n",
       "    <tr>\n",
       "      <th>1</th>\n",
       "      <td>class for a tree node class mynode you may us...</td>\n",
       "      <td>023</td>\n",
       "    </tr>\n",
       "    <tr>\n",
       "      <th>2</th>\n",
       "      <td>class for a tree node class mynode you may us...</td>\n",
       "      <td>015</td>\n",
       "    </tr>\n",
       "    <tr>\n",
       "      <th>3</th>\n",
       "      <td>class for a tree node class mynode private in...</td>\n",
       "      <td>012</td>\n",
       "    </tr>\n",
       "    <tr>\n",
       "      <th>4</th>\n",
       "      <td>class for a tree node class mynode you may us...</td>\n",
       "      <td>079</td>\n",
       "    </tr>\n",
       "  </tbody>\n",
       "</table>\n",
       "</div>"
      ],
      "text/plain": [
       "                                                text rowIndex\n",
       "0   class for a tree node class mynode int issafe...      024\n",
       "1   class for a tree node class mynode you may us...      023\n",
       "2   class for a tree node class mynode you may us...      015\n",
       "3   class for a tree node class mynode private in...      012\n",
       "4   class for a tree node class mynode you may us...      079"
      ]
     },
     "execution_count": 4,
     "metadata": {},
     "output_type": "execute_result"
    }
   ],
   "source": [
    "#view the data\n",
    "df.head(5)"
   ]
  },
  {
   "cell_type": "markdown",
   "id": "b6073bc6",
   "metadata": {},
   "source": [
    "The data has been loaded and a sample of the dataset is shown above"
   ]
  },
  {
   "cell_type": "markdown",
   "id": "56a74805",
   "metadata": {},
   "source": [
    "## Step 1: Shingling the documents\n",
    "### Convert Documents to sets using n-grams "
   ]
  },
  {
   "cell_type": "markdown",
   "id": "517ff570",
   "metadata": {},
   "source": [
    "In order for the text to compared, we must convert it into a format that represents the content of the text. Here, we will be creating a bag of words to create a n-gram vector for each document. We have used a CountVectorizer to create the n-grams taking a value of n=3. A text corpus based on the source text files is created as a result which is a n-gram of all the content present in these source files. Using the same text corpus, n-gram vectors are created for the suspicious text files which will tell us how many of these n-grams are present in these files. This will then be used to compare documents."
   ]
  },
  {
   "cell_type": "code",
   "execution_count": 5,
   "id": "ff657e19",
   "metadata": {},
   "outputs": [
    {
     "data": {
      "text/plain": [
       "array(['10 safetravel start', '1000 boolean mytree',\n",
       "       '1000 citynode citytree', ..., 'yes traversing root',\n",
       "       'yes visit start', 'yield path safe'], dtype=object)"
      ]
     },
     "execution_count": 5,
     "metadata": {},
     "output_type": "execute_result"
    }
   ],
   "source": [
    "corpus = df['text']\n",
    "n=3\n",
    "vectorizer = CountVectorizer(stop_words='english',ngram_range=(n,n))\n",
    "# Encode the Document\n",
    "X = vectorizer.fit_transform(corpus)\n",
    "vectorizer.get_feature_names_out()"
   ]
  },
  {
   "cell_type": "markdown",
   "id": "96344476",
   "metadata": {},
   "source": [
    "#### One-Hot encoding\n",
    "We will one-hot encode the shingles as that will be required in our Min hashing function"
   ]
  },
  {
   "cell_type": "code",
   "execution_count": 6,
   "id": "c3c98e16",
   "metadata": {},
   "outputs": [],
   "source": [
    "# Transformation using one-hot encoding:\n",
    "df_transform = DataFrame(X.toarray(),columns=vectorizer.get_feature_names_out())\n",
    "df_transform.where(df_transform <= 1, 1, inplace=True)\n",
    "df_transform.index = list(df[\"rowIndex\"])\n",
    "df_transform_T = df_transform.T"
   ]
  },
  {
   "cell_type": "code",
   "execution_count": 7,
   "id": "dd65abbc",
   "metadata": {},
   "outputs": [
    {
     "name": "stdout",
     "output_type": "stream",
     "text": [
      "Dimension of Source Data Frame: (13160, 120)\n",
      " This is what an n-gram vector for each document looks like \n",
      "[0 0 0 ... 0 0 0]\n",
      "Length of Document vector: 13160\n"
     ]
    }
   ],
   "source": [
    "print('Dimension of Source Data Frame:',df_transform_T.shape)\n",
    "sample_bow=np.array(df_transform_T.iloc[:,3])\n",
    "print(\" This is what an n-gram vector for each document looks like \")\n",
    "print(sample_bow)\n",
    "print('Length of Document vector:',len(sample_bow))"
   ]
  },
  {
   "cell_type": "markdown",
   "id": "a61330cb",
   "metadata": {},
   "source": [
    "## Step 2: Min Hashing $\\rightarrow $ Converting Large Sets to short Signatures"
   ]
  },
  {
   "cell_type": "markdown",
   "id": "3e18a30c",
   "metadata": {},
   "source": [
    "As We can see the, length of each document vector is pretty huge(13160). It can be expensive to compare two documents directly. The aim of this step is to convert these long document vectors into short signatures which can fit in memory. These signatures must preserve the similarity of documents. That is, if two documents are similar, then their corresponding signatures must also be similar.\n",
    "\n",
    "We develop signatures of document by hashing the column multiple times and stringing the output values. This hash function is dependent on the similarity metric. We will be using Jaccard similarity to judge similiarity of documents and Min-Hashing is a suitable hash function for Jaccard similiarity.\n",
    "\n",
    "$$\\text{Jaccard Similarity}= \\frac{|D1\\cap D2|}{|D1\\cup D2|}$$\n",
    "\n",
    "In Min Hashing,we randomly permute the rows of the n-gram vector. The min hash of a document for a given permutation i is the index of the first 1 in the document when permuted.\n",
    "\n",
    "For a permutation $\\pi$ and column vector c, The hash function $h_{\\pi}(c)$ is defined as $$h_{\\pi}(c)= min_{\\pi}\\pi(c) $$\n",
    "\n",
    "We pick k such permutations to generate a signature of length k for a document. But permuting rows can be expensive. Hence we use the concept of row-hashing for one-pass implementation of min Hashing. We pick k hash functions of the form $h_{a,b}(x)=(ax+b)\\mod n$ where n is the number of rows. We apply the hash functions row wise and update the signature matrix accordingly to generate the final signature matrix.\n",
    "\n",
    "Since we wish to preserve similiarity of documents, we need to choose k to be large enough to decrease the expected error. At the same times, the signature should be small enough to fit in memory.\n",
    "\n",
    "We use $1000$ permutations to generate min-hash signatures of length=$1000$ for each document, which is a $95\\%$ smaller than the actual document vector."
   ]
  },
  {
   "cell_type": "code",
   "execution_count": 8,
   "id": "5fb1acbc",
   "metadata": {},
   "outputs": [],
   "source": [
    "num_shingles=df_transform_T.shape[0]\n",
    "#using h(x)=ax+b%num_shingles \n",
    "#generating 1000 values for a and b\n",
    "numhashes = 1000\n",
    "a_hash=np.random.choice(range(num_shingles),size=numhashes,replace=False)\n",
    "b_hash=np.random.choice(range(num_shingles),size=numhashes,replace=False)\n",
    "\n",
    "#Min-Hash Function that generates a 1000-integer signature for each document.\n",
    "def min_hash(df,numhashes=1000,a=a_hash,b=b_hash):\n",
    "    columns=df.shape[1]\n",
    "    m=np.ones([numhashes,columns])*np.inf\n",
    "    #row hashing\n",
    "    for row in range(num_shingles):\n",
    "        hash=[]\n",
    "        for i in range(numhashes):\n",
    "            value=(a[i]*row+b[i])%num_shingles\n",
    "            hash.append(value)\n",
    "    \n",
    "        for column in range(columns):\n",
    "            if df.iloc[row,column]==1:\n",
    "                for i in range(numhashes):\n",
    "                    if hash[i]<m[i][column]:\n",
    "                        m[i][column]=hash[i]\n",
    "    return m"
   ]
  },
  {
   "cell_type": "code",
   "execution_count": 9,
   "id": "a75def03",
   "metadata": {},
   "outputs": [],
   "source": [
    "#Apply the Min Hash functions\n",
    "df_transform_min_hash=min_hash(df_transform_T,numhashes).astype(int)"
   ]
  },
  {
   "cell_type": "markdown",
   "id": "8596865a",
   "metadata": {},
   "source": [
    "We can view a sample signature below "
   ]
  },
  {
   "cell_type": "code",
   "execution_count": 10,
   "id": "00327fe8",
   "metadata": {},
   "outputs": [
    {
     "name": "stdout",
     "output_type": "stream",
     "text": [
      "Signature of Document 0\n",
      "- 24 - 5 - 5 - 23 - 1 ... 3 - 82 - 2 - 14 - 14 -\n",
      "\n",
      "Length  of Signature: 1000\n"
     ]
    }
   ],
   "source": [
    "def print_signature(doc_id):\n",
    "    signature=df_transform_min_hash[:,doc_id]\n",
    "    return ('- '+' - '.join(map(str,signature[:5]))+' ... '+(' - '.join(map(str,signature[-5:])))+' -')\n",
    "print('Signature of Document 0')\n",
    "print(print_signature(0))\n",
    "print('\\nLength  of Signature:',len(df_transform_min_hash[:,0]))"
   ]
  },
  {
   "cell_type": "markdown",
   "id": "a77988e9",
   "metadata": {},
   "source": [
    "## Step 3: Locality Sensitive Hashing"
   ]
  },
  {
   "cell_type": "markdown",
   "id": "1e47c1e2",
   "metadata": {},
   "source": [
    "Using Locality Sensitive Hashing, we can reduce the number of documents we need to check for each document when looking for plaigarism. Instead of checking all files for plaigarism, we only check the files which are found to be similar via LSH.\n",
    "\n",
    "A disadvantage of LSH is that it might not detect some similar documents, i.e., it produces false negatives. To do this, we break our signature vector into multiple bands, creating several sub-vectors.\n",
    "\n",
    "We then hash each of these sub-vectors into a set of buckets, if we find that two sub-vectors from two signature vectors collide (end up in the same hash bucket) we take the two full signature vectors as candidate pairs - which we then compare in full with a similarity metric (like Jaccard similarity, cosine similarity, etc).\n",
    "\n",
    "To divide the signature vector of each document into b buckets of r rows, we find the optimal values of b and r based on a given threshold.\n",
    "\n",
    "\n",
    "$Algorithm:$\n",
    "For every possible value of r (i.e. from 1 to the total number of rows in the signature vector), we obtain the value of b using $1/\\text{t}^r$. We want the value of $b*r$ to be as close as possible to the number of rows in the signature matrix (the error). The b and r combination which gives us the least error is chosen."
   ]
  },
  {
   "cell_type": "code",
   "execution_count": 11,
   "id": "c3901ffc",
   "metadata": {},
   "outputs": [
    {
     "name": "stdout",
     "output_type": "stream",
     "text": [
      "Best Values:\n",
      "Bands: 142 , Rows: 7\n"
     ]
    }
   ],
   "source": [
    "def get_bands_rows(numhashes,threshold):\n",
    "    min_error=np.inf\n",
    "    best_r=-1\n",
    "    for r in range(1,numhashes+1):\n",
    "        try:\n",
    "            b=1/(threshold**r)\n",
    "        except ZeroDivisionError:\n",
    "            b=np.inf\n",
    "\n",
    "        error=abs(numhashes-b*r)\n",
    "        if error < min_error:\n",
    "            best_r=r\n",
    "            min_error=error\n",
    "    band= int(numhashes/best_r)\n",
    "    return band,best_r\n",
    "\n",
    "#Calculate band and row values for similiarity=0.5\n",
    "lsh_bands,lsh_rows=get_bands_rows(numhashes,0.5)\n",
    "print(\"Best Values:\")\n",
    "print('Bands:',lsh_bands,', Rows:',lsh_rows)"
   ]
  },
  {
   "cell_type": "markdown",
   "id": "31a5573e",
   "metadata": {},
   "source": [
    "Visualizing the s-curve using the obtained row and band values."
   ]
  },
  {
   "cell_type": "code",
   "execution_count": 12,
   "id": "3f3f159c",
   "metadata": {},
   "outputs": [
    {
     "data": {
      "image/png": "[encoded data removed]",
      "text/plain": [
       "<Figure size 500x500 with 1 Axes>"
      ]
     },
     "metadata": {},
     "output_type": "display_data"
    },
    {
     "name": "stdout",
     "output_type": "stream",
     "text": [
      "Threshold= [0.493]\n"
     ]
    }
   ],
   "source": [
    "r=np.array([lsh_rows])\n",
    "b=(numhashes/r).astype(int)\n",
    "\n",
    "s=np.arange(0,1,0.01)\n",
    "y=np.zeros(len(s))\n",
    "\n",
    "for i in range(len(r)):\n",
    "    y=1-(1-s**r)**b\n",
    "    \n",
    "threshold=(1/b)**(1/r)\n",
    "\n",
    "plt.figure(figsize=[5,5])\n",
    "plt.plot(s,y,color='red')\n",
    "plt.title('S-Curves for 142 bands,7 rows')\n",
    "plt.xlabel('Similarity')\n",
    "plt.ylabel('Probability of Sharing a bucket')\n",
    "plt.axvline(threshold)\n",
    "plt.show()\n",
    "print('Threshold=',np.round(threshold,3)) "
   ]
  },
  {
   "cell_type": "markdown",
   "id": "f96a168b",
   "metadata": {},
   "source": [
    "We can see that by using 142 bands and 7 rows in each band, The documents which are more than 50% similar are ~60% likely to share a bucket and documents with >60% similarity are highly likely to share a bucket for atleast one of the bands.\n",
    "\n",
    "**The value of bands and rows are chosen to minimize the number of false negatives and false positives.**"
   ]
  },
  {
   "cell_type": "markdown",
   "id": "b0fa0ea8",
   "metadata": {},
   "source": [
    "**Defining the lsh hashing function**"
   ]
  },
  {
   "cell_type": "code",
   "execution_count": 13,
   "id": "44a56edd",
   "metadata": {},
   "outputs": [],
   "source": [
    "def lsh_hash(x):\n",
    "    x=np.array(x)\n",
    "    return np.sum(x**2)%(2**63-1) #31\n",
    "\n",
    "#building hash_table\n",
    "#each row is a signature of a document, we have transposed the signature matrix to ensure that\n",
    "def lsh_corpus(signature_matrix_T,bands=20,rows=5):\n",
    "    dictionary={}\n",
    "    signature_matrix=signature_matrix_T.T\n",
    "    \n",
    "    for num,signature in enumerate(signature_matrix):\n",
    "        for i in range(bands):\n",
    "            # select a band\n",
    "            mini_signature=signature[i*rows:(i+1)*rows]\n",
    "            #hash the band\n",
    "            hash_val=lsh_hash(mini_signature)\n",
    "            if hash_val not in dictionary:\n",
    "                dictionary[hash_val]=set()\n",
    "            #insert document_number into hash table\n",
    "            dictionary[hash_val].add(num)\n",
    "    return dictionary\n",
    "\n"
   ]
  },
  {
   "cell_type": "code",
   "execution_count": 14,
   "id": "ec7f14a3",
   "metadata": {},
   "outputs": [],
   "source": [
    "#Use lsh hash table to find documents with similar signatures\n",
    "def generate_suspicious(dictionary,document,bands=20,rows=5):\n",
    "    suspicious=set()\n",
    "    for i in range(bands):\n",
    "        mini_signature=document[i*rows:(i+1)*rows]\n",
    "        hash_val=lsh_hash(mini_signature)\n",
    "        if hash_val in dictionary:\n",
    "            suspicious=suspicious.union(dictionary[hash_val])\n",
    "    return suspicious"
   ]
  },
  {
   "cell_type": "markdown",
   "id": "37454155",
   "metadata": {},
   "source": [
    "Building LSH Hash table using signature matrix of Source Documents:"
   ]
  },
  {
   "cell_type": "code",
   "execution_count": 15,
   "id": "4bf2478b",
   "metadata": {},
   "outputs": [
    {
     "name": "stdout",
     "output_type": "stream",
     "text": [
      "Number of different keys in the LSH dictionary: 14585\n",
      "\n",
      "Dictionary Snapshot\n",
      "589146 : {2}\n",
      "19269 : {102}\n",
      "43624 : {29}\n",
      "37821 : {66}\n",
      "4876 : {94}\n"
     ]
    }
   ],
   "source": [
    "lsh_dict=lsh_corpus(df_transform_min_hash,lsh_bands,lsh_rows)\n",
    "print(\"Number of different keys in the LSH dictionary:\",len(lsh_dict))\n",
    "print('\\nDictionary Snapshot')\n",
    "random_keys=np.random.choice([key for key in lsh_dict],size=5)\n",
    "for key in random_keys:\n",
    "    print(key,':',lsh_dict[key])"
   ]
  },
  {
   "cell_type": "markdown",
   "id": "4ed5c5fc",
   "metadata": {},
   "source": [
    "After hashing all the source documents into bins (stored as a dictionary), we now know that if we hash a suspicious document to this dictionary, it will be placed in a bin along which contains other documents that are most likely to be similar to it. We can then perform a brute force comparison of the suspicious documents with the source documents present in the same bin to figure out the true similarity and hence whether it is a plagiarism."
   ]
  },
  {
   "cell_type": "markdown",
   "id": "b6d94325",
   "metadata": {},
   "source": [
    "## Comparing LSH results with Jaccard similarity"
   ]
  },
  {
   "cell_type": "markdown",
   "id": "13c3620b",
   "metadata": {},
   "source": [
    "We will now view our results for any document by comparing the Jaccard similarity of documents that are found to be similar by our LSH function"
   ]
  },
  {
   "cell_type": "markdown",
   "id": "ba8f3f35",
   "metadata": {},
   "source": [
    "**Defining the function to calculate the Jaccard similarity between signatures of documents:**"
   ]
  },
  {
   "cell_type": "code",
   "execution_count": 16,
   "id": "60d74323",
   "metadata": {},
   "outputs": [],
   "source": [
    "def jac_dist(a,b):\n",
    "    return np.sum(a&b)/np.sum(a|b)"
   ]
  },
  {
   "cell_type": "markdown",
   "id": "f526ac86",
   "metadata": {},
   "source": [
    "**Function to return the most similar source code document (if one or more exists) given a suspicious document:**"
   ]
  },
  {
   "cell_type": "markdown",
   "id": "c6f56396",
   "metadata": {},
   "source": [
    "Algorithm for finding the similar documents:\n",
    "1. generate the hash values bin-wise to obtain the keys for this document\n",
    "2. fetch the document id's which map to these keys of the hash value \n",
    "3. Calculate the jaccard similarity of the two signatures"
   ]
  },
  {
   "cell_type": "code",
   "execution_count": 17,
   "id": "390fc8be",
   "metadata": {},
   "outputs": [],
   "source": [
    "def compare_similarities(doc_id):\n",
    "    lsh_results_col_names= [\"Source_Code_File\", \"Suspicious_Doc\",\"Jaccard Similarity\"]\n",
    "    lsh_results_df = pd.DataFrame(columns = lsh_results_col_names)\n",
    "    lsh_sus_list = generate_suspicious(lsh_dict,df_transform_min_hash[:,48],lsh_bands,lsh_rows)\n",
    "    if len(lsh_sus_list)==0:\n",
    "        return \"no file found\"\n",
    "    curr_filename = df['rowIndex'][doc_id]\n",
    "    source_bow = np.array(df_transform_T .iloc[:,doc_id])\n",
    "    for sus_doc in lsh_sus_list:\n",
    "        sus_bow=np.array(df_transform_T .iloc[:,sus_doc])\n",
    "        similarity=jac_dist(sus_bow,source_bow)\n",
    "        sus_filename = df[\"rowIndex\"][sus_doc]\n",
    "        lsh_results_df = lsh_results_df.append(pd.Series([curr_filename, sus_filename, similarity], index = lsh_results_col_names), ignore_index=True)\n",
    "    \n",
    "    return lsh_results_df"
   ]
  },
  {
   "cell_type": "markdown",
   "id": "d90863f7",
   "metadata": {},
   "source": [
    "View for a sample document"
   ]
  },
  {
   "cell_type": "code",
   "execution_count": 18,
   "id": "2afd810d",
   "metadata": {},
   "outputs": [],
   "source": [
    "df1 = compare_similarities(0)"
   ]
  },
  {
   "cell_type": "code",
   "execution_count": 19,
   "id": "63e85bda",
   "metadata": {},
   "outputs": [
    {
     "data": {
      "text/html": [
       "<div>\n",
       "<style scoped>\n",
       "    .dataframe tbody tr th:only-of-type {\n",
       "        vertical-align: middle;\n",
       "    }\n",
       "\n",
       "    .dataframe tbody tr th {\n",
       "        vertical-align: top;\n",
       "    }\n",
       "\n",
       "    .dataframe thead th {\n",
       "        text-align: right;\n",
       "    }\n",
       "</style>\n",
       "<table border=\"1\" class=\"dataframe\">\n",
       "  <thead>\n",
       "    <tr style=\"text-align: right;\">\n",
       "      <th></th>\n",
       "      <th>Source_Code_File</th>\n",
       "      <th>Suspicious_Doc</th>\n",
       "      <th>Jaccard Similarity</th>\n",
       "    </tr>\n",
       "  </thead>\n",
       "  <tbody>\n",
       "    <tr>\n",
       "      <th>0</th>\n",
       "      <td>024</td>\n",
       "      <td>023</td>\n",
       "      <td>0.174721</td>\n",
       "    </tr>\n",
       "    <tr>\n",
       "      <th>1</th>\n",
       "      <td>024</td>\n",
       "      <td>073</td>\n",
       "      <td>0.103074</td>\n",
       "    </tr>\n",
       "    <tr>\n",
       "      <th>2</th>\n",
       "      <td>024</td>\n",
       "      <td>079</td>\n",
       "      <td>0.169231</td>\n",
       "    </tr>\n",
       "    <tr>\n",
       "      <th>3</th>\n",
       "      <td>024</td>\n",
       "      <td>041</td>\n",
       "      <td>0.166667</td>\n",
       "    </tr>\n",
       "    <tr>\n",
       "      <th>4</th>\n",
       "      <td>024</td>\n",
       "      <td>018</td>\n",
       "      <td>0.107438</td>\n",
       "    </tr>\n",
       "    <tr>\n",
       "      <th>5</th>\n",
       "      <td>024</td>\n",
       "      <td>3-2</td>\n",
       "      <td>0.133971</td>\n",
       "    </tr>\n",
       "    <tr>\n",
       "      <th>6</th>\n",
       "      <td>024</td>\n",
       "      <td>083</td>\n",
       "      <td>0.198502</td>\n",
       "    </tr>\n",
       "    <tr>\n",
       "      <th>7</th>\n",
       "      <td>024</td>\n",
       "      <td>081</td>\n",
       "      <td>0.198230</td>\n",
       "    </tr>\n",
       "    <tr>\n",
       "      <th>8</th>\n",
       "      <td>024</td>\n",
       "      <td>084</td>\n",
       "      <td>0.130258</td>\n",
       "    </tr>\n",
       "    <tr>\n",
       "      <th>9</th>\n",
       "      <td>024</td>\n",
       "      <td>086</td>\n",
       "      <td>0.181818</td>\n",
       "    </tr>\n",
       "    <tr>\n",
       "      <th>10</th>\n",
       "      <td>024</td>\n",
       "      <td>014</td>\n",
       "      <td>0.185309</td>\n",
       "    </tr>\n",
       "    <tr>\n",
       "      <th>11</th>\n",
       "      <td>024</td>\n",
       "      <td>022</td>\n",
       "      <td>0.177215</td>\n",
       "    </tr>\n",
       "    <tr>\n",
       "      <th>12</th>\n",
       "      <td>024</td>\n",
       "      <td>044</td>\n",
       "      <td>0.172117</td>\n",
       "    </tr>\n",
       "    <tr>\n",
       "      <th>13</th>\n",
       "      <td>024</td>\n",
       "      <td>1-3</td>\n",
       "      <td>0.079389</td>\n",
       "    </tr>\n",
       "    <tr>\n",
       "      <th>14</th>\n",
       "      <td>024</td>\n",
       "      <td>017</td>\n",
       "      <td>0.164211</td>\n",
       "    </tr>\n",
       "    <tr>\n",
       "      <th>15</th>\n",
       "      <td>024</td>\n",
       "      <td>010</td>\n",
       "      <td>0.109162</td>\n",
       "    </tr>\n",
       "    <tr>\n",
       "      <th>16</th>\n",
       "      <td>024</td>\n",
       "      <td>085</td>\n",
       "      <td>0.204738</td>\n",
       "    </tr>\n",
       "    <tr>\n",
       "      <th>17</th>\n",
       "      <td>024</td>\n",
       "      <td>026</td>\n",
       "      <td>0.263780</td>\n",
       "    </tr>\n",
       "    <tr>\n",
       "      <th>18</th>\n",
       "      <td>024</td>\n",
       "      <td>034</td>\n",
       "      <td>0.188377</td>\n",
       "    </tr>\n",
       "    <tr>\n",
       "      <th>19</th>\n",
       "      <td>024</td>\n",
       "      <td>007</td>\n",
       "      <td>0.198488</td>\n",
       "    </tr>\n",
       "    <tr>\n",
       "      <th>20</th>\n",
       "      <td>024</td>\n",
       "      <td>038</td>\n",
       "      <td>0.175410</td>\n",
       "    </tr>\n",
       "    <tr>\n",
       "      <th>21</th>\n",
       "      <td>024</td>\n",
       "      <td>005</td>\n",
       "      <td>0.126538</td>\n",
       "    </tr>\n",
       "    <tr>\n",
       "      <th>22</th>\n",
       "      <td>024</td>\n",
       "      <td>052</td>\n",
       "      <td>0.056437</td>\n",
       "    </tr>\n",
       "    <tr>\n",
       "      <th>23</th>\n",
       "      <td>024</td>\n",
       "      <td>067</td>\n",
       "      <td>0.200653</td>\n",
       "    </tr>\n",
       "    <tr>\n",
       "      <th>24</th>\n",
       "      <td>024</td>\n",
       "      <td>060</td>\n",
       "      <td>0.179487</td>\n",
       "    </tr>\n",
       "    <tr>\n",
       "      <th>25</th>\n",
       "      <td>024</td>\n",
       "      <td>008</td>\n",
       "      <td>0.190855</td>\n",
       "    </tr>\n",
       "    <tr>\n",
       "      <th>26</th>\n",
       "      <td>024</td>\n",
       "      <td>001</td>\n",
       "      <td>0.121622</td>\n",
       "    </tr>\n",
       "    <tr>\n",
       "      <th>27</th>\n",
       "      <td>024</td>\n",
       "      <td>baseline</td>\n",
       "      <td>0.230392</td>\n",
       "    </tr>\n",
       "  </tbody>\n",
       "</table>\n",
       "</div>"
      ],
      "text/plain": [
       "   Source_Code_File Suspicious_Doc  Jaccard Similarity\n",
       "0               024            023            0.174721\n",
       "1               024            073            0.103074\n",
       "2               024            079            0.169231\n",
       "3               024            041            0.166667\n",
       "4               024            018            0.107438\n",
       "5               024            3-2            0.133971\n",
       "6               024            083            0.198502\n",
       "7               024            081            0.198230\n",
       "8               024            084            0.130258\n",
       "9               024            086            0.181818\n",
       "10              024            014            0.185309\n",
       "11              024            022            0.177215\n",
       "12              024            044            0.172117\n",
       "13              024            1-3            0.079389\n",
       "14              024            017            0.164211\n",
       "15              024            010            0.109162\n",
       "16              024            085            0.204738\n",
       "17              024            026            0.263780\n",
       "18              024            034            0.188377\n",
       "19              024            007            0.198488\n",
       "20              024            038            0.175410\n",
       "21              024            005            0.126538\n",
       "22              024            052            0.056437\n",
       "23              024            067            0.200653\n",
       "24              024            060            0.179487\n",
       "25              024            008            0.190855\n",
       "26              024            001            0.121622\n",
       "27              024       baseline            0.230392"
      ]
     },
     "execution_count": 19,
     "metadata": {},
     "output_type": "execute_result"
    }
   ],
   "source": [
    "df1"
   ]
  },
  {
   "cell_type": "code",
   "execution_count": null,
   "id": "5c883748",
   "metadata": {},
   "outputs": [],
   "source": []
  }
 ],
 "metadata": {
  "kernelspec": {
   "display_name": "Python 3 (ipykernel)",
   "language": "python",
   "name": "python3"
  },
  "language_info": {
   "codemirror_mode": {
    "name": "ipython",
    "version": 3
   },
   "file_extension": ".py",
   "mimetype": "text/x-python",
   "name": "python",
   "nbconvert_exporter": "python",
   "pygments_lexer": "ipython3",
   "version": "3.10.8"
  }
 },
 "nbformat": 4,
 "nbformat_minor": 5
}
